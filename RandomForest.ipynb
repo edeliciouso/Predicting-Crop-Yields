{
  "cells": [
    {
      "cell_type": "code",
      "execution_count": 2,
      "metadata": {
        "id": "8GhraXJAmzxR"
      },
      "outputs": [],
      "source": [
        "import numpy as np\n",
        "import pandas as pd\n",
        "import matplotlib.pyplot as plt\n",
        "from sklearn.model_selection import train_test_split\n",
        "from sklearn.ensemble import RandomForestRegressor\n",
        "from sklearn.metrics import r2_score, mean_absolute_error, mean_squared_error, max_error, mean_absolute_percentage_error\n",
        "from sklearn.preprocessing import StandardScaler\n",
        "from matplotlib.ticker import FuncFormatter\n",
        "import time"
      ]
    },
    {
      "cell_type": "code",
      "execution_count": 3,
      "metadata": {
        "id": "bkKjAyZbmzxY"
      },
      "outputs": [],
      "source": [
        "# Loading Dataset\n",
        "data_path = '/content/Final_merged_data.csv'\n",
        "df = pd.read_csv(data_path)"
      ]
    },
    {
      "cell_type": "code",
      "execution_count": 4,
      "metadata": {
        "id": "bYizO2EfmzxZ"
      },
      "outputs": [],
      "source": [
        "# Dropping 'Country' column since it contains only one unique value ('Indonesia')\n",
        "df_processed = df.drop('Country', axis=1)"
      ]
    },
    {
      "cell_type": "code",
      "execution_count": 5,
      "metadata": {
        "id": "ZSp2CfFxmzxa",
        "outputId": "6aaff7a6-6510-4e22-90eb-cd015db5e16c",
        "colab": {
          "base_uri": "https://localhost:8080/"
        }
      },
      "outputs": [
        {
          "output_type": "stream",
          "name": "stdout",
          "text": [
            "<class 'pandas.core.frame.DataFrame'>\n",
            "RangeIndex: 720 entries, 0 to 719\n",
            "Data columns (total 6 columns):\n",
            " #   Column                 Non-Null Count  Dtype  \n",
            "---  ------                 --------------  -----  \n",
            " 0   Year                   720 non-null    int64  \n",
            " 1   Item                   720 non-null    object \n",
            " 2   Rainfall (mm)          720 non-null    float64\n",
            " 3   Temperature (Celcius)  720 non-null    float64\n",
            " 4   Yield (hg/ha)          720 non-null    int64  \n",
            " 5   Pesticides (Tons)      720 non-null    float64\n",
            "dtypes: float64(3), int64(2), object(1)\n",
            "memory usage: 33.9+ KB\n"
          ]
        }
      ],
      "source": [
        "df_processed.info()"
      ]
    },
    {
      "cell_type": "code",
      "execution_count": 6,
      "metadata": {
        "id": "HHHBVoTrmzxb",
        "outputId": "7d73bc11-8fe9-488f-f7ba-3ba992e7c74d",
        "colab": {
          "base_uri": "https://localhost:8080/",
          "height": 317
        }
      },
      "outputs": [
        {
          "output_type": "execute_result",
          "data": {
            "text/plain": [
              "              Year  Rainfall (mm)  Temperature (Celcius)  Yield (hg/ha)  \\\n",
              "count   720.000000     720.000000             720.000000   7.200000e+02   \n",
              "mean   2015.500000     169.913194              26.733333   1.355161e+05   \n",
              "std       3.454452      40.060258               0.170085   2.171315e+05   \n",
              "min    2010.000000      99.100000              26.500000   6.840000e+02   \n",
              "25%    2012.750000     129.493750              26.600000   8.886250e+03   \n",
              "50%    2015.500000     176.741667              26.700000   6.233450e+04   \n",
              "75%    2018.250000     195.787500              26.825000   1.562635e+05   \n",
              "max    2021.000000     235.958333              27.100000   1.292117e+06   \n",
              "\n",
              "       Pesticides (Tons)  \n",
              "count         720.000000  \n",
              "mean       276415.640000  \n",
              "std         40694.310061  \n",
              "min        206061.700000  \n",
              "25%        254547.252500  \n",
              "50%        276713.360000  \n",
              "75%        313211.652500  \n",
              "max        349797.630000  "
            ],
            "text/html": [
              "\n",
              "  <div id=\"df-9fce3d22-5f1d-44e3-a4bb-c04d933583ed\" class=\"colab-df-container\">\n",
              "    <div>\n",
              "<style scoped>\n",
              "    .dataframe tbody tr th:only-of-type {\n",
              "        vertical-align: middle;\n",
              "    }\n",
              "\n",
              "    .dataframe tbody tr th {\n",
              "        vertical-align: top;\n",
              "    }\n",
              "\n",
              "    .dataframe thead th {\n",
              "        text-align: right;\n",
              "    }\n",
              "</style>\n",
              "<table border=\"1\" class=\"dataframe\">\n",
              "  <thead>\n",
              "    <tr style=\"text-align: right;\">\n",
              "      <th></th>\n",
              "      <th>Year</th>\n",
              "      <th>Rainfall (mm)</th>\n",
              "      <th>Temperature (Celcius)</th>\n",
              "      <th>Yield (hg/ha)</th>\n",
              "      <th>Pesticides (Tons)</th>\n",
              "    </tr>\n",
              "  </thead>\n",
              "  <tbody>\n",
              "    <tr>\n",
              "      <th>count</th>\n",
              "      <td>720.000000</td>\n",
              "      <td>720.000000</td>\n",
              "      <td>720.000000</td>\n",
              "      <td>7.200000e+02</td>\n",
              "      <td>720.000000</td>\n",
              "    </tr>\n",
              "    <tr>\n",
              "      <th>mean</th>\n",
              "      <td>2015.500000</td>\n",
              "      <td>169.913194</td>\n",
              "      <td>26.733333</td>\n",
              "      <td>1.355161e+05</td>\n",
              "      <td>276415.640000</td>\n",
              "    </tr>\n",
              "    <tr>\n",
              "      <th>std</th>\n",
              "      <td>3.454452</td>\n",
              "      <td>40.060258</td>\n",
              "      <td>0.170085</td>\n",
              "      <td>2.171315e+05</td>\n",
              "      <td>40694.310061</td>\n",
              "    </tr>\n",
              "    <tr>\n",
              "      <th>min</th>\n",
              "      <td>2010.000000</td>\n",
              "      <td>99.100000</td>\n",
              "      <td>26.500000</td>\n",
              "      <td>6.840000e+02</td>\n",
              "      <td>206061.700000</td>\n",
              "    </tr>\n",
              "    <tr>\n",
              "      <th>25%</th>\n",
              "      <td>2012.750000</td>\n",
              "      <td>129.493750</td>\n",
              "      <td>26.600000</td>\n",
              "      <td>8.886250e+03</td>\n",
              "      <td>254547.252500</td>\n",
              "    </tr>\n",
              "    <tr>\n",
              "      <th>50%</th>\n",
              "      <td>2015.500000</td>\n",
              "      <td>176.741667</td>\n",
              "      <td>26.700000</td>\n",
              "      <td>6.233450e+04</td>\n",
              "      <td>276713.360000</td>\n",
              "    </tr>\n",
              "    <tr>\n",
              "      <th>75%</th>\n",
              "      <td>2018.250000</td>\n",
              "      <td>195.787500</td>\n",
              "      <td>26.825000</td>\n",
              "      <td>1.562635e+05</td>\n",
              "      <td>313211.652500</td>\n",
              "    </tr>\n",
              "    <tr>\n",
              "      <th>max</th>\n",
              "      <td>2021.000000</td>\n",
              "      <td>235.958333</td>\n",
              "      <td>27.100000</td>\n",
              "      <td>1.292117e+06</td>\n",
              "      <td>349797.630000</td>\n",
              "    </tr>\n",
              "  </tbody>\n",
              "</table>\n",
              "</div>\n",
              "    <div class=\"colab-df-buttons\">\n",
              "\n",
              "  <div class=\"colab-df-container\">\n",
              "    <button class=\"colab-df-convert\" onclick=\"convertToInteractive('df-9fce3d22-5f1d-44e3-a4bb-c04d933583ed')\"\n",
              "            title=\"Convert this dataframe to an interactive table.\"\n",
              "            style=\"display:none;\">\n",
              "\n",
              "  <svg xmlns=\"http://www.w3.org/2000/svg\" height=\"24px\" viewBox=\"0 -960 960 960\">\n",
              "    <path d=\"M120-120v-720h720v720H120Zm60-500h600v-160H180v160Zm220 220h160v-160H400v160Zm0 220h160v-160H400v160ZM180-400h160v-160H180v160Zm440 0h160v-160H620v160ZM180-180h160v-160H180v160Zm440 0h160v-160H620v160Z\"/>\n",
              "  </svg>\n",
              "    </button>\n",
              "\n",
              "  <style>\n",
              "    .colab-df-container {\n",
              "      display:flex;\n",
              "      gap: 12px;\n",
              "    }\n",
              "\n",
              "    .colab-df-convert {\n",
              "      background-color: #E8F0FE;\n",
              "      border: none;\n",
              "      border-radius: 50%;\n",
              "      cursor: pointer;\n",
              "      display: none;\n",
              "      fill: #1967D2;\n",
              "      height: 32px;\n",
              "      padding: 0 0 0 0;\n",
              "      width: 32px;\n",
              "    }\n",
              "\n",
              "    .colab-df-convert:hover {\n",
              "      background-color: #E2EBFA;\n",
              "      box-shadow: 0px 1px 2px rgba(60, 64, 67, 0.3), 0px 1px 3px 1px rgba(60, 64, 67, 0.15);\n",
              "      fill: #174EA6;\n",
              "    }\n",
              "\n",
              "    .colab-df-buttons div {\n",
              "      margin-bottom: 4px;\n",
              "    }\n",
              "\n",
              "    [theme=dark] .colab-df-convert {\n",
              "      background-color: #3B4455;\n",
              "      fill: #D2E3FC;\n",
              "    }\n",
              "\n",
              "    [theme=dark] .colab-df-convert:hover {\n",
              "      background-color: #434B5C;\n",
              "      box-shadow: 0px 1px 3px 1px rgba(0, 0, 0, 0.15);\n",
              "      filter: drop-shadow(0px 1px 2px rgba(0, 0, 0, 0.3));\n",
              "      fill: #FFFFFF;\n",
              "    }\n",
              "  </style>\n",
              "\n",
              "    <script>\n",
              "      const buttonEl =\n",
              "        document.querySelector('#df-9fce3d22-5f1d-44e3-a4bb-c04d933583ed button.colab-df-convert');\n",
              "      buttonEl.style.display =\n",
              "        google.colab.kernel.accessAllowed ? 'block' : 'none';\n",
              "\n",
              "      async function convertToInteractive(key) {\n",
              "        const element = document.querySelector('#df-9fce3d22-5f1d-44e3-a4bb-c04d933583ed');\n",
              "        const dataTable =\n",
              "          await google.colab.kernel.invokeFunction('convertToInteractive',\n",
              "                                                    [key], {});\n",
              "        if (!dataTable) return;\n",
              "\n",
              "        const docLinkHtml = 'Like what you see? Visit the ' +\n",
              "          '<a target=\"_blank\" href=https://colab.research.google.com/notebooks/data_table.ipynb>data table notebook</a>'\n",
              "          + ' to learn more about interactive tables.';\n",
              "        element.innerHTML = '';\n",
              "        dataTable['output_type'] = 'display_data';\n",
              "        await google.colab.output.renderOutput(dataTable, element);\n",
              "        const docLink = document.createElement('div');\n",
              "        docLink.innerHTML = docLinkHtml;\n",
              "        element.appendChild(docLink);\n",
              "      }\n",
              "    </script>\n",
              "  </div>\n",
              "\n",
              "\n",
              "<div id=\"df-6c15d150-0ca5-440e-bc1c-04634a0a2671\">\n",
              "  <button class=\"colab-df-quickchart\" onclick=\"quickchart('df-6c15d150-0ca5-440e-bc1c-04634a0a2671')\"\n",
              "            title=\"Suggest charts\"\n",
              "            style=\"display:none;\">\n",
              "\n",
              "<svg xmlns=\"http://www.w3.org/2000/svg\" height=\"24px\"viewBox=\"0 0 24 24\"\n",
              "     width=\"24px\">\n",
              "    <g>\n",
              "        <path d=\"M19 3H5c-1.1 0-2 .9-2 2v14c0 1.1.9 2 2 2h14c1.1 0 2-.9 2-2V5c0-1.1-.9-2-2-2zM9 17H7v-7h2v7zm4 0h-2V7h2v10zm4 0h-2v-4h2v4z\"/>\n",
              "    </g>\n",
              "</svg>\n",
              "  </button>\n",
              "\n",
              "<style>\n",
              "  .colab-df-quickchart {\n",
              "      --bg-color: #E8F0FE;\n",
              "      --fill-color: #1967D2;\n",
              "      --hover-bg-color: #E2EBFA;\n",
              "      --hover-fill-color: #174EA6;\n",
              "      --disabled-fill-color: #AAA;\n",
              "      --disabled-bg-color: #DDD;\n",
              "  }\n",
              "\n",
              "  [theme=dark] .colab-df-quickchart {\n",
              "      --bg-color: #3B4455;\n",
              "      --fill-color: #D2E3FC;\n",
              "      --hover-bg-color: #434B5C;\n",
              "      --hover-fill-color: #FFFFFF;\n",
              "      --disabled-bg-color: #3B4455;\n",
              "      --disabled-fill-color: #666;\n",
              "  }\n",
              "\n",
              "  .colab-df-quickchart {\n",
              "    background-color: var(--bg-color);\n",
              "    border: none;\n",
              "    border-radius: 50%;\n",
              "    cursor: pointer;\n",
              "    display: none;\n",
              "    fill: var(--fill-color);\n",
              "    height: 32px;\n",
              "    padding: 0;\n",
              "    width: 32px;\n",
              "  }\n",
              "\n",
              "  .colab-df-quickchart:hover {\n",
              "    background-color: var(--hover-bg-color);\n",
              "    box-shadow: 0 1px 2px rgba(60, 64, 67, 0.3), 0 1px 3px 1px rgba(60, 64, 67, 0.15);\n",
              "    fill: var(--button-hover-fill-color);\n",
              "  }\n",
              "\n",
              "  .colab-df-quickchart-complete:disabled,\n",
              "  .colab-df-quickchart-complete:disabled:hover {\n",
              "    background-color: var(--disabled-bg-color);\n",
              "    fill: var(--disabled-fill-color);\n",
              "    box-shadow: none;\n",
              "  }\n",
              "\n",
              "  .colab-df-spinner {\n",
              "    border: 2px solid var(--fill-color);\n",
              "    border-color: transparent;\n",
              "    border-bottom-color: var(--fill-color);\n",
              "    animation:\n",
              "      spin 1s steps(1) infinite;\n",
              "  }\n",
              "\n",
              "  @keyframes spin {\n",
              "    0% {\n",
              "      border-color: transparent;\n",
              "      border-bottom-color: var(--fill-color);\n",
              "      border-left-color: var(--fill-color);\n",
              "    }\n",
              "    20% {\n",
              "      border-color: transparent;\n",
              "      border-left-color: var(--fill-color);\n",
              "      border-top-color: var(--fill-color);\n",
              "    }\n",
              "    30% {\n",
              "      border-color: transparent;\n",
              "      border-left-color: var(--fill-color);\n",
              "      border-top-color: var(--fill-color);\n",
              "      border-right-color: var(--fill-color);\n",
              "    }\n",
              "    40% {\n",
              "      border-color: transparent;\n",
              "      border-right-color: var(--fill-color);\n",
              "      border-top-color: var(--fill-color);\n",
              "    }\n",
              "    60% {\n",
              "      border-color: transparent;\n",
              "      border-right-color: var(--fill-color);\n",
              "    }\n",
              "    80% {\n",
              "      border-color: transparent;\n",
              "      border-right-color: var(--fill-color);\n",
              "      border-bottom-color: var(--fill-color);\n",
              "    }\n",
              "    90% {\n",
              "      border-color: transparent;\n",
              "      border-bottom-color: var(--fill-color);\n",
              "    }\n",
              "  }\n",
              "</style>\n",
              "\n",
              "  <script>\n",
              "    async function quickchart(key) {\n",
              "      const quickchartButtonEl =\n",
              "        document.querySelector('#' + key + ' button');\n",
              "      quickchartButtonEl.disabled = true;  // To prevent multiple clicks.\n",
              "      quickchartButtonEl.classList.add('colab-df-spinner');\n",
              "      try {\n",
              "        const charts = await google.colab.kernel.invokeFunction(\n",
              "            'suggestCharts', [key], {});\n",
              "      } catch (error) {\n",
              "        console.error('Error during call to suggestCharts:', error);\n",
              "      }\n",
              "      quickchartButtonEl.classList.remove('colab-df-spinner');\n",
              "      quickchartButtonEl.classList.add('colab-df-quickchart-complete');\n",
              "    }\n",
              "    (() => {\n",
              "      let quickchartButtonEl =\n",
              "        document.querySelector('#df-6c15d150-0ca5-440e-bc1c-04634a0a2671 button');\n",
              "      quickchartButtonEl.style.display =\n",
              "        google.colab.kernel.accessAllowed ? 'block' : 'none';\n",
              "    })();\n",
              "  </script>\n",
              "</div>\n",
              "    </div>\n",
              "  </div>\n"
            ]
          },
          "metadata": {},
          "execution_count": 6
        }
      ],
      "source": [
        "df_processed.describe()"
      ]
    },
    {
      "cell_type": "code",
      "execution_count": 7,
      "metadata": {
        "id": "nV2VRbQGmzxc",
        "outputId": "7e41bdad-80f2-4917-8c87-9a226e621ca8",
        "colab": {
          "base_uri": "https://localhost:8080/"
        }
      },
      "outputs": [
        {
          "output_type": "execute_result",
          "data": {
            "text/plain": [
              "12"
            ]
          },
          "metadata": {},
          "execution_count": 7
        }
      ],
      "source": [
        "len(df_processed.Year.unique())"
      ]
    },
    {
      "cell_type": "code",
      "execution_count": 8,
      "metadata": {
        "id": "iHQ_mPvSmzxd"
      },
      "outputs": [],
      "source": [
        "# Separating target variable and features\n",
        "X = df_processed.drop('Yield (hg/ha)', axis = 1)\n",
        "y = df_processed['Yield (hg/ha)']"
      ]
    },
    {
      "cell_type": "code",
      "execution_count": 9,
      "metadata": {
        "id": "wWw4VCYJmzxf"
      },
      "outputs": [],
      "source": [
        "# Perform one-hot encoding on the 'Item' column\n",
        "X_encoded = pd.get_dummies(X, columns=['Item'])"
      ]
    },
    {
      "cell_type": "code",
      "execution_count": 10,
      "metadata": {
        "id": "WVP9hnJBmzxi"
      },
      "outputs": [],
      "source": [
        "# Splitting the data into training and testing sets\n",
        "X_train, X_test, y_train, y_test = train_test_split(X_encoded, y, test_size=0.2, random_state=42)"
      ]
    },
    {
      "cell_type": "code",
      "execution_count": 11,
      "metadata": {
        "id": "JKgFnv1qmzxj"
      },
      "outputs": [],
      "source": [
        "# Create RandomForestRegressor model\n",
        "rf_reg = RandomForestRegressor(n_estimators=100, random_state=42)"
      ]
    },
    {
      "cell_type": "code",
      "execution_count": 12,
      "metadata": {
        "id": "srIaDxl1mzxj"
      },
      "outputs": [],
      "source": [
        "# Training the RandomForestRegressor model\n",
        "start_training_time = time.time()\n",
        "rf_reg.fit(X_train, y_train)\n",
        "end_training_time = time.time()\n",
        "training_time = end_training_time - start_training_time"
      ]
    },
    {
      "cell_type": "code",
      "execution_count": 13,
      "metadata": {
        "id": "dIA9Z3Xpmzxk"
      },
      "outputs": [],
      "source": [
        "# Make predictions\n",
        "start_prediction_time = time.time()\n",
        "y_pred_rf = rf_reg.predict(X_test)\n",
        "end_prediction_time = time.time()\n",
        "prediction_time = end_prediction_time - start_prediction_time"
      ]
    },
    {
      "cell_type": "code",
      "execution_count": 14,
      "metadata": {
        "id": "4PALB8ASmzxk",
        "outputId": "dce951a2-8aab-479e-fe90-205063e9c6bc",
        "colab": {
          "base_uri": "https://localhost:8080/",
          "height": 564
        }
      },
      "outputs": [
        {
          "output_type": "display_data",
          "data": {
            "text/plain": [
              "<Figure size 800x600 with 1 Axes>"
            ],
            "image/png": "[encoded data removed]"
          },
          "metadata": {}
        }
      ],
      "source": [
        "# Visualization - Scatter plot of actual vs. predicted values\n",
        "plt.figure(figsize=(8, 6))\n",
        "plt.scatter(y_test, y_pred_rf, alpha=0.7)\n",
        "plt.xlabel('Actual values')\n",
        "plt.ylabel('Predicted values')\n",
        "plt.title('RandomForest Regression: Actual vs. Predicted')\n",
        "plt.plot([y_test.min(), y_test.max()], [y_test.min(), y_test.max()], 'k--', lw=2)  # Diagonal line for reference\n",
        "plt.grid(True)\n",
        "plt.show()"
      ]
    },
    {
      "cell_type": "code",
      "execution_count": 15,
      "metadata": {
        "id": "jWNeJfFBmzxl",
        "outputId": "7b52a853-1770-4c18-b962-c4c399804207",
        "colab": {
          "base_uri": "https://localhost:8080/"
        }
      },
      "outputs": [
        {
          "output_type": "stream",
          "name": "stdout",
          "text": [
            "R-squared (R2): 0.99\n",
            "Mean Absolute Error (MAE): 6838.95\n",
            "Mean Squared Error (MSE): 316844998.43\n",
            "Root Mean Squared Error (RMSE): 17800.14\n",
            "Max Error: 163153.56\n",
            "Mean Absolute Percentage Error (MAPE): 0.07%\n",
            "Training Time: 2.71 seconds\n",
            "Prediction Time: 0.03598 seconds\n"
          ]
        }
      ],
      "source": [
        "# Displaying evaluation metrics and time taken\n",
        "r2 = r2_score(y_test, y_pred_rf)\n",
        "mae = mean_absolute_error(y_test, y_pred_rf)\n",
        "mse = mean_squared_error(y_test, y_pred_rf)\n",
        "rmse = mean_squared_error(y_test, y_pred_rf, squared=False)\n",
        "max_err = max_error(y_test, y_pred_rf)\n",
        "mape = mean_absolute_percentage_error(y_test, y_pred_rf)\n",
        "\n",
        "print(f\"R-squared (R2): {r2:.2f}\")\n",
        "print(f\"Mean Absolute Error (MAE): {mae:.2f}\")\n",
        "print(f\"Mean Squared Error (MSE): {mse:.2f}\")\n",
        "print(f\"Root Mean Squared Error (RMSE): {rmse:.2f}\")\n",
        "print(f\"Max Error: {max_err:.2f}\")\n",
        "print(f\"Mean Absolute Percentage Error (MAPE): {mape:.2f}%\")\n",
        "\n",
        "print(f\"Training Time: {training_time:.2f} seconds\")\n",
        "print(f\"Prediction Time: {prediction_time:.5f} seconds\")"
      ]
    },
    {
      "cell_type": "code",
      "source": [
        "# Get feature importances\n",
        "feature_importances = rf_reg.feature_importances_\n",
        "\n",
        "# Map feature importances to feature names\n",
        "feature_names = X_train.columns\n",
        "feature_importance_dict = dict(zip(feature_names, feature_importances))\n",
        "\n",
        "# Sort feature importances in descending order\n",
        "sorted_feature_importance = sorted(feature_importance_dict.items(), key=lambda x: x[1], reverse=True)\n",
        "\n",
        "# Print and visualize top 5 feature importances\n",
        "print(\"Top 5 Feature Importances:\")\n",
        "for feature, importance in sorted_feature_importance[:5]:\n",
        "    print(f\"{feature}: {importance}\")\n",
        "\n",
        "# Create a bar chart to visualize top 5 feature importances\n",
        "plt.figure(figsize=(10, 6))\n",
        "plt.bar(range(5), [val[1] for val in sorted_feature_importance[:5]], align=\"center\")\n",
        "plt.xticks(range(5), [val[0] for val in sorted_feature_importance[:5]], rotation=45)\n",
        "plt.xlabel(\"Feature\")\n",
        "plt.ylabel(\"Importance\")\n",
        "plt.title(\"Top 5 Feature Importance in RandomForestRegressor Model\")\n",
        "plt.show()"
      ],
      "metadata": {
        "colab": {
          "base_uri": "https://localhost:8080/",
          "height": 732
        },
        "id": "-OM3i0TMAtIc",
        "outputId": "0c7a770c-4bda-4f40-ad90-cca3cca9b71f"
      },
      "execution_count": 19,
      "outputs": [
        {
          "output_type": "stream",
          "name": "stdout",
          "text": [
            "Top 5 Feature Importances:\n",
            "Item_Pineapples: 0.4204586126755483\n",
            "Item_Papayas: 0.19310356390772815\n",
            "Item_Sugar cane: 0.1060748456266218\n",
            "Item_Bananas: 0.08201520931809222\n",
            "Item_Pumpkins, squash and gourds: 0.06798019080404427\n"
          ]
        },
        {
          "output_type": "display_data",
          "data": {
            "text/plain": [
              "<Figure size 1000x600 with 1 Axes>"
            ],
            "image/png": "[encoded data removed]"
          },
          "metadata": {}
        }
      ]
    }
  ],
  "metadata": {
    "kernelspec": {
      "display_name": "Python 3",
      "language": "python",
      "name": "python3"
    },
    "language_info": {
      "codemirror_mode": {
        "name": "ipython",
        "version": 3
      },
      "file_extension": ".py",
      "mimetype": "text/x-python",
      "name": "python",
      "nbconvert_exporter": "python",
      "pygments_lexer": "ipython3",
      "version": "3.10.11"
    },
    "colab": {
      "provenance": []
    }
  },
  "nbformat": 4,
  "nbformat_minor": 0
}